{
 "cells": [
  {
   "cell_type": "code",
   "execution_count": null,
   "metadata": {},
   "outputs": [],
   "source": [
    "# importing libraries\n",
    "import pandas as pd\n",
    "import os\n",
    "import matplotlib.pyplot as plt"
   ]
  },
  {
   "cell_type": "code",
   "execution_count": 2,
   "metadata": {},
   "outputs": [],
   "source": [
    "FILEPATHS = { # For october only\n",
    "    'comissionados_nao_quadro':'comissionados_nao_quadro_out.xls',\n",
    "    'comissionados_quadro':'comissionados_quadro_out.xls',\n",
    "    'folha_pgto':'folha_pgto_out.xls',\n",
    "    'media_salario':'media_salario_out.xls',\n",
    "    'servants': 'servidores_out.xls'\n",
    "}\n",
    "def get_filepath(key):\n",
    "    return FILEPATHS[key]"
   ]
  },
  {
   "cell_type": "code",
   "execution_count": 3,
   "metadata": {},
   "outputs": [],
   "source": [
    "# reading files\n",
    "servidores = pd.read_excel('../data/{}'.format(get_filepath('servants'))).dropna()\n",
    "comissionados_nao_quadro = pd.read_excel('../data/{}'.format(get_filepath('comissionados_nao_quadro'))).dropna()\n",
    "comissionados_quadro = pd.read_excel('../data/{}'.format(get_filepath('comissionados_quadro'))).dropna()"
   ]
  },
  {
   "cell_type": "code",
   "execution_count": 4,
   "metadata": {},
   "outputs": [
    {
     "data": {
      "text/plain": [
       "(196, 6)"
      ]
     },
     "execution_count": 4,
     "metadata": {},
     "output_type": "execute_result"
    }
   ],
   "source": [
    "comissionados_nao_quadro.shape"
   ]
  },
  {
   "cell_type": "code",
   "execution_count": 5,
   "metadata": {},
   "outputs": [
    {
     "data": {
      "text/html": [
       "<div>\n",
       "<style scoped>\n",
       "    .dataframe tbody tr th:only-of-type {\n",
       "        vertical-align: middle;\n",
       "    }\n",
       "\n",
       "    .dataframe tbody tr th {\n",
       "        vertical-align: top;\n",
       "    }\n",
       "\n",
       "    .dataframe thead th {\n",
       "        text-align: right;\n",
       "    }\n",
       "</style>\n",
       "<table border=\"1\" class=\"dataframe\">\n",
       "  <thead>\n",
       "    <tr style=\"text-align: right;\">\n",
       "      <th></th>\n",
       "      <th>Secretaria</th>\n",
       "      <th>Departamento</th>\n",
       "      <th>Registro</th>\n",
       "      <th>Nome</th>\n",
       "      <th>Cargo Efetivo</th>\n",
       "      <th>Nível Efetivo</th>\n",
       "      <th>Nível Salarial</th>\n",
       "      <th>Cargo Atual</th>\n",
       "    </tr>\n",
       "  </thead>\n",
       "  <tbody>\n",
       "    <tr>\n",
       "      <th>1</th>\n",
       "      <td>SEFIN</td>\n",
       "      <td>DEATRI</td>\n",
       "      <td>08.061-4</td>\n",
       "      <td>DINA ELIZABETH EVANGELISTA SANTOS</td>\n",
       "      <td>AUDITOR FISCAL DE TRIBUTOS MUNICIPAIS</td>\n",
       "      <td>R</td>\n",
       "      <td>R</td>\n",
       "      <td>COORDENADOR II</td>\n",
       "    </tr>\n",
       "    <tr>\n",
       "      <th>2</th>\n",
       "      <td>SMS</td>\n",
       "      <td>SMS</td>\n",
       "      <td>12.040-2</td>\n",
       "      <td>VALTER MAKOTO NAKAGAWA</td>\n",
       "      <td>MEDICO</td>\n",
       "      <td>S</td>\n",
       "      <td>S</td>\n",
       "      <td>SECRETARIO ADJUNTO</td>\n",
       "    </tr>\n",
       "    <tr>\n",
       "      <th>3</th>\n",
       "      <td>OTC</td>\n",
       "      <td>OTC</td>\n",
       "      <td>14.425-3</td>\n",
       "      <td>RIVALDO SANTOS DE ALMEIDA JUNIOR</td>\n",
       "      <td>TEC.DE ABASTECIMENTO</td>\n",
       "      <td>L</td>\n",
       "      <td>CS</td>\n",
       "      <td>OUVIDOR PUBLICO MUNICIPAL</td>\n",
       "    </tr>\n",
       "    <tr>\n",
       "      <th>4</th>\n",
       "      <td>SESEG</td>\n",
       "      <td>CORREGE-SESEG</td>\n",
       "      <td>15.068-0</td>\n",
       "      <td>RAIMUNDO DOS SANTOS FERREIRA</td>\n",
       "      <td>GUARDA MUNICIPAL IV-INSPETOR CHEFE</td>\n",
       "      <td>L</td>\n",
       "      <td>C-1</td>\n",
       "      <td>CHEFE DE DEPARTAMENTO</td>\n",
       "    </tr>\n",
       "    <tr>\n",
       "      <th>5</th>\n",
       "      <td>SESEG</td>\n",
       "      <td>DGM</td>\n",
       "      <td>15.193-6</td>\n",
       "      <td>FRANCISCO APARECIDO JERONIMO</td>\n",
       "      <td>GUARDA MUNICIPAL III-INSPETOR</td>\n",
       "      <td>J</td>\n",
       "      <td>J</td>\n",
       "      <td>COORDENADOR III</td>\n",
       "    </tr>\n",
       "  </tbody>\n",
       "</table>\n",
       "</div>"
      ],
      "text/plain": [
       "  Secretaria    Departamento  Registro                               Nome  \\\n",
       "1      SEFIN          DEATRI  08.061-4  DINA ELIZABETH EVANGELISTA SANTOS   \n",
       "2        SMS             SMS  12.040-2             VALTER MAKOTO NAKAGAWA   \n",
       "3        OTC             OTC  14.425-3   RIVALDO SANTOS DE ALMEIDA JUNIOR   \n",
       "4      SESEG   CORREGE-SESEG  15.068-0       RAIMUNDO DOS SANTOS FERREIRA   \n",
       "5      SESEG             DGM  15.193-6       FRANCISCO APARECIDO JERONIMO   \n",
       "\n",
       "                           Cargo Efetivo Nível Efetivo Nível Salarial  \\\n",
       "1  AUDITOR FISCAL DE TRIBUTOS MUNICIPAIS             R              R   \n",
       "2                                 MEDICO             S              S   \n",
       "3                   TEC.DE ABASTECIMENTO             L             CS   \n",
       "4     GUARDA MUNICIPAL IV-INSPETOR CHEFE             L            C-1   \n",
       "5          GUARDA MUNICIPAL III-INSPETOR             J              J   \n",
       "\n",
       "                 Cargo Atual  \n",
       "1             COORDENADOR II  \n",
       "2         SECRETARIO ADJUNTO  \n",
       "3  OUVIDOR PUBLICO MUNICIPAL  \n",
       "4      CHEFE DE DEPARTAMENTO  \n",
       "5            COORDENADOR III  "
      ]
     },
     "execution_count": 5,
     "metadata": {},
     "output_type": "execute_result"
    }
   ],
   "source": [
    "comissionados_quadro.head()"
   ]
  },
  {
   "cell_type": "code",
   "execution_count": 6,
   "metadata": {},
   "outputs": [
    {
     "data": {
      "text/plain": [
       "array(['Estatutário', 'Cargo em Comissão não Pertencente ao Quadro',\n",
       "       'Celetista'], dtype=object)"
      ]
     },
     "execution_count": 6,
     "metadata": {},
     "output_type": "execute_result"
    }
   ],
   "source": [
    "servidores['Tipo de Servidor'].unique()"
   ]
  },
  {
   "cell_type": "code",
   "execution_count": 7,
   "metadata": {},
   "outputs": [
    {
     "data": {
      "text/html": [
       "<div>\n",
       "<style scoped>\n",
       "    .dataframe tbody tr th:only-of-type {\n",
       "        vertical-align: middle;\n",
       "    }\n",
       "\n",
       "    .dataframe tbody tr th {\n",
       "        vertical-align: top;\n",
       "    }\n",
       "\n",
       "    .dataframe thead th {\n",
       "        text-align: right;\n",
       "    }\n",
       "</style>\n",
       "<table border=\"1\" class=\"dataframe\">\n",
       "  <thead>\n",
       "    <tr style=\"text-align: right;\">\n",
       "      <th></th>\n",
       "      <th>Nome do Servidor</th>\n",
       "      <th>Registro</th>\n",
       "      <th>Tipo de Servidor</th>\n",
       "      <th>Cargo Efetivo</th>\n",
       "      <th>Cargo</th>\n",
       "      <th>Carga Horária</th>\n",
       "      <th>Lotação</th>\n",
       "      <th>Admissão</th>\n",
       "      <th>Qtde.</th>\n",
       "    </tr>\n",
       "  </thead>\n",
       "  <tbody>\n",
       "    <tr>\n",
       "      <th>1</th>\n",
       "      <td>ABDON FERREIRA DA SILVA NETO</td>\n",
       "      <td>32.642-1</td>\n",
       "      <td>Estatutário</td>\n",
       "      <td>AUXILIAR DE SERV. GERAIS</td>\n",
       "      <td>AUXILIAR DE SERV. GERAIS</td>\n",
       "      <td>200.0</td>\n",
       "      <td>SEDUC - UME-NGF</td>\n",
       "      <td>20/05/2013</td>\n",
       "      <td>1</td>\n",
       "    </tr>\n",
       "    <tr>\n",
       "      <th>2</th>\n",
       "      <td>ABIGAIL DE ALMEIDA ELIAS</td>\n",
       "      <td>28.796-1</td>\n",
       "      <td>Estatutário</td>\n",
       "      <td>PROF. ADJUNTO I</td>\n",
       "      <td>PROF. ADJUNTO I</td>\n",
       "      <td>105.0</td>\n",
       "      <td>SEDUC - UME-PA</td>\n",
       "      <td>16/10/2009</td>\n",
       "      <td>1</td>\n",
       "    </tr>\n",
       "    <tr>\n",
       "      <th>3</th>\n",
       "      <td>ABNER DE SOUZA SANTANA</td>\n",
       "      <td>36.136-0</td>\n",
       "      <td>Estatutário</td>\n",
       "      <td>INSTRUTOR DE ED. MUSICAL</td>\n",
       "      <td>INSTRUTOR DE ED. MUSICAL</td>\n",
       "      <td>200.0</td>\n",
       "      <td>SECULT - COFORM-SECULT</td>\n",
       "      <td>24/04/2018</td>\n",
       "      <td>1</td>\n",
       "    </tr>\n",
       "    <tr>\n",
       "      <th>4</th>\n",
       "      <td>ABNER NUNES</td>\n",
       "      <td>31.636-4</td>\n",
       "      <td>Estatutário</td>\n",
       "      <td>OFICIAL DE ADMINISTRACAO</td>\n",
       "      <td>OFICIAL DE ADMINISTRACAO</td>\n",
       "      <td>200.0</td>\n",
       "      <td>SMS - SEUB-ACP</td>\n",
       "      <td>30/10/2012</td>\n",
       "      <td>1</td>\n",
       "    </tr>\n",
       "    <tr>\n",
       "      <th>5</th>\n",
       "      <td>ABRAAO COSME SAMPAIO</td>\n",
       "      <td>15.879-0</td>\n",
       "      <td>Estatutário</td>\n",
       "      <td>FISCAL DE TRANSITO</td>\n",
       "      <td>FISCAL DE TRANSITO</td>\n",
       "      <td>200.0</td>\n",
       "      <td>SEFIN - SEFIS-FEI</td>\n",
       "      <td>18/12/1987</td>\n",
       "      <td>1</td>\n",
       "    </tr>\n",
       "  </tbody>\n",
       "</table>\n",
       "</div>"
      ],
      "text/plain": [
       "               Nome do Servidor  Registro Tipo de Servidor  \\\n",
       "1  ABDON FERREIRA DA SILVA NETO  32.642-1      Estatutário   \n",
       "2      ABIGAIL DE ALMEIDA ELIAS  28.796-1      Estatutário   \n",
       "3        ABNER DE SOUZA SANTANA  36.136-0      Estatutário   \n",
       "4                   ABNER NUNES  31.636-4      Estatutário   \n",
       "5          ABRAAO COSME SAMPAIO  15.879-0      Estatutário   \n",
       "\n",
       "              Cargo Efetivo                     Cargo  Carga Horária  \\\n",
       "1  AUXILIAR DE SERV. GERAIS  AUXILIAR DE SERV. GERAIS          200.0   \n",
       "2           PROF. ADJUNTO I           PROF. ADJUNTO I          105.0   \n",
       "3  INSTRUTOR DE ED. MUSICAL  INSTRUTOR DE ED. MUSICAL          200.0   \n",
       "4  OFICIAL DE ADMINISTRACAO  OFICIAL DE ADMINISTRACAO          200.0   \n",
       "5        FISCAL DE TRANSITO        FISCAL DE TRANSITO          200.0   \n",
       "\n",
       "                  Lotação    Admissão  Qtde.  \n",
       "1         SEDUC - UME-NGF  20/05/2013      1  \n",
       "2          SEDUC - UME-PA  16/10/2009      1  \n",
       "3  SECULT - COFORM-SECULT  24/04/2018      1  \n",
       "4          SMS - SEUB-ACP  30/10/2012      1  \n",
       "5       SEFIN - SEFIS-FEI  18/12/1987      1  "
      ]
     },
     "execution_count": 7,
     "metadata": {},
     "output_type": "execute_result"
    }
   ],
   "source": [
    "servidores.head()"
   ]
  },
  {
   "cell_type": "code",
   "execution_count": 8,
   "metadata": {},
   "outputs": [
    {
     "data": {
      "text/plain": [
       "Index(['Nome do Servidor', 'Registro', 'Tipo de Servidor', 'Cargo Efetivo',\n",
       "       'Cargo', 'Carga Horária', 'Lotação', 'Admissão', 'Qtde.'],\n",
       "      dtype='object')"
      ]
     },
     "execution_count": 8,
     "metadata": {},
     "output_type": "execute_result"
    }
   ],
   "source": [
    "servidores.columns"
   ]
  },
  {
   "cell_type": "code",
   "execution_count": 9,
   "metadata": {},
   "outputs": [
    {
     "data": {
      "text/plain": [
       "Estatutário                                    11410\n",
       "Cargo em Comissão não Pertencente ao Quadro      196\n",
       "Celetista                                         98\n",
       "Name: Tipo de Servidor, dtype: int64"
      ]
     },
     "execution_count": 9,
     "metadata": {},
     "output_type": "execute_result"
    }
   ],
   "source": [
    "servidores['Tipo de Servidor'].value_counts()"
   ]
  },
  {
   "cell_type": "code",
   "execution_count": 10,
   "metadata": {},
   "outputs": [],
   "source": [
    "nao_quadro_percentage = len(servidores[\\\n",
    "    servidores['Tipo de Servidor']=='Cargo em Comissão não Pertencente ao Quadro'])\\\n",
    "    /len(servidores)"
   ]
  },
  {
   "cell_type": "code",
   "execution_count": 11,
   "metadata": {},
   "outputs": [
    {
     "name": "stdout",
     "output_type": "stream",
     "text": [
      "KPI1 : 1.67% of servants comissionados over all servantes\n"
     ]
    }
   ],
   "source": [
    "print ('KPI1 : {:.2f}% of servants comissionados over all servantes'.format(100.*nao_quadro_percentage))"
   ]
  },
  {
   "cell_type": "code",
   "execution_count": 15,
   "metadata": {},
   "outputs": [
    {
     "name": "stdout",
     "output_type": "stream",
     "text": [
      "Numero de comissionados: 0.94%\n"
     ]
    }
   ],
   "source": [
    "perc_comissionados = len(comissionados_quadro)/len(servidores)\n",
    "print ('Numero de comissionados: {:.2f}%'.format(perc_comissionados*100))"
   ]
  },
  {
   "cell_type": "code",
   "execution_count": 34,
   "metadata": {
    "scrolled": true
   },
   "outputs": [],
   "source": [
    "# Breakdown by dept\n",
    "servidores['nao_quadro'] = servidores.apply(lambda x: 1 if x['Tipo de Servidor']=='Cargo em Comissão não Pertencente ao Quadro' else 0,axis=1)\n",
    "grouped = servidores.groupby(['Lotação'],as_index=False).\\\n",
    "agg({'Registro':'count','nao_quadro':'sum'}).sort_values(by='Registro',ascending=False)"
   ]
  },
  {
   "cell_type": "code",
   "execution_count": 35,
   "metadata": {},
   "outputs": [
    {
     "data": {
      "text/html": [
       "<div>\n",
       "<style scoped>\n",
       "    .dataframe tbody tr th:only-of-type {\n",
       "        vertical-align: middle;\n",
       "    }\n",
       "\n",
       "    .dataframe tbody tr th {\n",
       "        vertical-align: top;\n",
       "    }\n",
       "\n",
       "    .dataframe thead th {\n",
       "        text-align: right;\n",
       "    }\n",
       "</style>\n",
       "<table border=\"1\" class=\"dataframe\">\n",
       "  <thead>\n",
       "    <tr style=\"text-align: right;\">\n",
       "      <th></th>\n",
       "      <th>Nome do Servidor</th>\n",
       "      <th>Registro</th>\n",
       "      <th>Tipo de Servidor</th>\n",
       "      <th>Cargo Efetivo</th>\n",
       "      <th>Cargo</th>\n",
       "      <th>Carga Horária</th>\n",
       "      <th>Lotação</th>\n",
       "      <th>Admissão</th>\n",
       "      <th>Qtde.</th>\n",
       "      <th>nao_quadro</th>\n",
       "    </tr>\n",
       "  </thead>\n",
       "  <tbody>\n",
       "    <tr>\n",
       "      <th>1</th>\n",
       "      <td>ABDON FERREIRA DA SILVA NETO</td>\n",
       "      <td>32.642-1</td>\n",
       "      <td>Estatutário</td>\n",
       "      <td>AUXILIAR DE SERV. GERAIS</td>\n",
       "      <td>AUXILIAR DE SERV. GERAIS</td>\n",
       "      <td>200.0</td>\n",
       "      <td>SEDUC - UME-NGF</td>\n",
       "      <td>20/05/2013</td>\n",
       "      <td>1</td>\n",
       "      <td>0</td>\n",
       "    </tr>\n",
       "    <tr>\n",
       "      <th>2</th>\n",
       "      <td>ABIGAIL DE ALMEIDA ELIAS</td>\n",
       "      <td>28.796-1</td>\n",
       "      <td>Estatutário</td>\n",
       "      <td>PROF. ADJUNTO I</td>\n",
       "      <td>PROF. ADJUNTO I</td>\n",
       "      <td>105.0</td>\n",
       "      <td>SEDUC - UME-PA</td>\n",
       "      <td>16/10/2009</td>\n",
       "      <td>1</td>\n",
       "      <td>0</td>\n",
       "    </tr>\n",
       "    <tr>\n",
       "      <th>3</th>\n",
       "      <td>ABNER DE SOUZA SANTANA</td>\n",
       "      <td>36.136-0</td>\n",
       "      <td>Estatutário</td>\n",
       "      <td>INSTRUTOR DE ED. MUSICAL</td>\n",
       "      <td>INSTRUTOR DE ED. MUSICAL</td>\n",
       "      <td>200.0</td>\n",
       "      <td>SECULT - COFORM-SECULT</td>\n",
       "      <td>24/04/2018</td>\n",
       "      <td>1</td>\n",
       "      <td>0</td>\n",
       "    </tr>\n",
       "    <tr>\n",
       "      <th>4</th>\n",
       "      <td>ABNER NUNES</td>\n",
       "      <td>31.636-4</td>\n",
       "      <td>Estatutário</td>\n",
       "      <td>OFICIAL DE ADMINISTRACAO</td>\n",
       "      <td>OFICIAL DE ADMINISTRACAO</td>\n",
       "      <td>200.0</td>\n",
       "      <td>SMS - SEUB-ACP</td>\n",
       "      <td>30/10/2012</td>\n",
       "      <td>1</td>\n",
       "      <td>0</td>\n",
       "    </tr>\n",
       "    <tr>\n",
       "      <th>5</th>\n",
       "      <td>ABRAAO COSME SAMPAIO</td>\n",
       "      <td>15.879-0</td>\n",
       "      <td>Estatutário</td>\n",
       "      <td>FISCAL DE TRANSITO</td>\n",
       "      <td>FISCAL DE TRANSITO</td>\n",
       "      <td>200.0</td>\n",
       "      <td>SEFIN - SEFIS-FEI</td>\n",
       "      <td>18/12/1987</td>\n",
       "      <td>1</td>\n",
       "      <td>0</td>\n",
       "    </tr>\n",
       "  </tbody>\n",
       "</table>\n",
       "</div>"
      ],
      "text/plain": [
       "               Nome do Servidor  Registro Tipo de Servidor  \\\n",
       "1  ABDON FERREIRA DA SILVA NETO  32.642-1      Estatutário   \n",
       "2      ABIGAIL DE ALMEIDA ELIAS  28.796-1      Estatutário   \n",
       "3        ABNER DE SOUZA SANTANA  36.136-0      Estatutário   \n",
       "4                   ABNER NUNES  31.636-4      Estatutário   \n",
       "5          ABRAAO COSME SAMPAIO  15.879-0      Estatutário   \n",
       "\n",
       "              Cargo Efetivo                     Cargo  Carga Horária  \\\n",
       "1  AUXILIAR DE SERV. GERAIS  AUXILIAR DE SERV. GERAIS          200.0   \n",
       "2           PROF. ADJUNTO I           PROF. ADJUNTO I          105.0   \n",
       "3  INSTRUTOR DE ED. MUSICAL  INSTRUTOR DE ED. MUSICAL          200.0   \n",
       "4  OFICIAL DE ADMINISTRACAO  OFICIAL DE ADMINISTRACAO          200.0   \n",
       "5        FISCAL DE TRANSITO        FISCAL DE TRANSITO          200.0   \n",
       "\n",
       "                  Lotação    Admissão  Qtde.  nao_quadro  \n",
       "1         SEDUC - UME-NGF  20/05/2013      1           0  \n",
       "2          SEDUC - UME-PA  16/10/2009      1           0  \n",
       "3  SECULT - COFORM-SECULT  24/04/2018      1           0  \n",
       "4          SMS - SEUB-ACP  30/10/2012      1           0  \n",
       "5       SEFIN - SEFIS-FEI  18/12/1987      1           0  "
      ]
     },
     "execution_count": 35,
     "metadata": {},
     "output_type": "execute_result"
    }
   ],
   "source": [
    "servidores.head()"
   ]
  },
  {
   "cell_type": "code",
   "execution_count": 36,
   "metadata": {},
   "outputs": [
    {
     "data": {
      "text/plain": [
       "<matplotlib.axes._subplots.AxesSubplot at 0x11abe3438>"
      ]
     },
     "execution_count": 36,
     "metadata": {},
     "output_type": "execute_result"
    },
    {
     "data": {
      "image/png": "[encoded data removed]",
      "text/plain": [
       "<Figure size 1440x864 with 1 Axes>"
      ]
     },
     "metadata": {
      "needs_background": "light"
     },
     "output_type": "display_data"
    }
   ],
   "source": [
    "grouped[:5].plot.bar(x='Lotação', y='Registro', rot=0, figsize=(20,12))"
   ]
  },
  {
   "cell_type": "code",
   "execution_count": 42,
   "metadata": {},
   "outputs": [
    {
     "data": {
      "text/html": [
       "<div>\n",
       "<style scoped>\n",
       "    .dataframe tbody tr th:only-of-type {\n",
       "        vertical-align: middle;\n",
       "    }\n",
       "\n",
       "    .dataframe tbody tr th {\n",
       "        vertical-align: top;\n",
       "    }\n",
       "\n",
       "    .dataframe thead th {\n",
       "        text-align: right;\n",
       "    }\n",
       "</style>\n",
       "<table border=\"1\" class=\"dataframe\">\n",
       "  <thead>\n",
       "    <tr style=\"text-align: right;\">\n",
       "      <th></th>\n",
       "      <th>Lotação</th>\n",
       "      <th>Registro</th>\n",
       "      <th>nao_quadro</th>\n",
       "      <th>perc</th>\n",
       "    </tr>\n",
       "  </thead>\n",
       "  <tbody>\n",
       "    <tr>\n",
       "      <th>4</th>\n",
       "      <td>GPM - GPM</td>\n",
       "      <td>51</td>\n",
       "      <td>20</td>\n",
       "      <td>0.392157</td>\n",
       "    </tr>\n",
       "    <tr>\n",
       "      <th>468</th>\n",
       "      <td>SEGOV - GAB-SEGOV</td>\n",
       "      <td>35</td>\n",
       "      <td>11</td>\n",
       "      <td>0.314286</td>\n",
       "    </tr>\n",
       "    <tr>\n",
       "      <th>582</th>\n",
       "      <td>SESERP - GAB-SESERP</td>\n",
       "      <td>27</td>\n",
       "      <td>10</td>\n",
       "      <td>0.370370</td>\n",
       "    </tr>\n",
       "    <tr>\n",
       "      <th>85</th>\n",
       "      <td>SECULT - GAB-SECULT</td>\n",
       "      <td>20</td>\n",
       "      <td>7</td>\n",
       "      <td>0.350000</td>\n",
       "    </tr>\n",
       "    <tr>\n",
       "      <th>699</th>\n",
       "      <td>SMS - GAB-SMS</td>\n",
       "      <td>45</td>\n",
       "      <td>7</td>\n",
       "      <td>0.155556</td>\n",
       "    </tr>\n",
       "    <tr>\n",
       "      <th>...</th>\n",
       "      <td>...</td>\n",
       "      <td>...</td>\n",
       "      <td>...</td>\n",
       "      <td>...</td>\n",
       "    </tr>\n",
       "    <tr>\n",
       "      <th>107</th>\n",
       "      <td>SECULT - SEHE</td>\n",
       "      <td>5</td>\n",
       "      <td>0</td>\n",
       "      <td>0.000000</td>\n",
       "    </tr>\n",
       "    <tr>\n",
       "      <th>680</th>\n",
       "      <td>SMS - COMLIC-SMS</td>\n",
       "      <td>5</td>\n",
       "      <td>0</td>\n",
       "      <td>0.000000</td>\n",
       "    </tr>\n",
       "    <tr>\n",
       "      <th>763</th>\n",
       "      <td>SMS - SEUB-GON</td>\n",
       "      <td>45</td>\n",
       "      <td>0</td>\n",
       "      <td>0.000000</td>\n",
       "    </tr>\n",
       "    <tr>\n",
       "      <th>514</th>\n",
       "      <td>SEMAM - UNIBOT-ORQ</td>\n",
       "      <td>5</td>\n",
       "      <td>0</td>\n",
       "      <td>0.000000</td>\n",
       "    </tr>\n",
       "    <tr>\n",
       "      <th>708</th>\n",
       "      <td>SMS - SAMU</td>\n",
       "      <td>172</td>\n",
       "      <td>0</td>\n",
       "      <td>0.000000</td>\n",
       "    </tr>\n",
       "  </tbody>\n",
       "</table>\n",
       "<p>786 rows × 4 columns</p>\n",
       "</div>"
      ],
      "text/plain": [
       "                 Lotação  Registro  nao_quadro      perc\n",
       "4              GPM - GPM        51          20  0.392157\n",
       "468    SEGOV - GAB-SEGOV        35          11  0.314286\n",
       "582  SESERP - GAB-SESERP        27          10  0.370370\n",
       "85   SECULT - GAB-SECULT        20           7  0.350000\n",
       "699        SMS - GAB-SMS        45           7  0.155556\n",
       "..                   ...       ...         ...       ...\n",
       "107        SECULT - SEHE         5           0  0.000000\n",
       "680     SMS - COMLIC-SMS         5           0  0.000000\n",
       "763       SMS - SEUB-GON        45           0  0.000000\n",
       "514   SEMAM - UNIBOT-ORQ         5           0  0.000000\n",
       "708           SMS - SAMU       172           0  0.000000\n",
       "\n",
       "[786 rows x 4 columns]"
      ]
     },
     "execution_count": 42,
     "metadata": {},
     "output_type": "execute_result"
    }
   ],
   "source": [
    "grouped['perc'] = grouped['nao_quadro']/grouped['Registro']\n",
    "grouped.sort_values('nao_quadro',ascending=False)"
   ]
  },
  {
   "cell_type": "markdown",
   "metadata": {},
   "source": [
    "### KPI 2 - Mayor"
   ]
  },
  {
   "cell_type": "code",
   "execution_count": 43,
   "metadata": {},
   "outputs": [],
   "source": [
    "prefeito = servidores[servidores['Cargo Efetivo'].str.contains('PREFEITO MUNICIPAL')].iloc[0]['Nome do Servidor']"
   ]
  },
  {
   "cell_type": "code",
   "execution_count": 44,
   "metadata": {},
   "outputs": [
    {
     "data": {
      "text/plain": [
       "'PAULO ALEXANDRE PEREIRA BARBOSA'"
      ]
     },
     "execution_count": 44,
     "metadata": {},
     "output_type": "execute_result"
    }
   ],
   "source": [
    "prefeito"
   ]
  },
  {
   "cell_type": "code",
   "execution_count": 45,
   "metadata": {},
   "outputs": [],
   "source": [
    "surnames_mayor = ['PEREIRA','BARBOSA']"
   ]
  },
  {
   "cell_type": "code",
   "execution_count": 46,
   "metadata": {},
   "outputs": [
    {
     "name": "stdout",
     "output_type": "stream",
     "text": [
      "(6, 6)\n"
     ]
    },
    {
     "data": {
      "text/html": [
       "<div>\n",
       "<style scoped>\n",
       "    .dataframe tbody tr th:only-of-type {\n",
       "        vertical-align: middle;\n",
       "    }\n",
       "\n",
       "    .dataframe tbody tr th {\n",
       "        vertical-align: top;\n",
       "    }\n",
       "\n",
       "    .dataframe thead th {\n",
       "        text-align: right;\n",
       "    }\n",
       "</style>\n",
       "<table border=\"1\" class=\"dataframe\">\n",
       "  <thead>\n",
       "    <tr style=\"text-align: right;\">\n",
       "      <th></th>\n",
       "      <th>Secretaria</th>\n",
       "      <th>Departamento</th>\n",
       "      <th>Registro</th>\n",
       "      <th>Nome</th>\n",
       "      <th>Cargo Efetivo</th>\n",
       "      <th>Nível Salarial</th>\n",
       "    </tr>\n",
       "  </thead>\n",
       "  <tbody>\n",
       "    <tr>\n",
       "      <th>28</th>\n",
       "      <td>SECOM</td>\n",
       "      <td>SECOM</td>\n",
       "      <td>36.742-5</td>\n",
       "      <td>CAMILLA PEREIRA COSTA</td>\n",
       "      <td>ASSESSOR TECNICO III</td>\n",
       "      <td>C-3</td>\n",
       "    </tr>\n",
       "    <tr>\n",
       "      <th>73</th>\n",
       "      <td>SESERP</td>\n",
       "      <td>DESERP</td>\n",
       "      <td>34.475-4</td>\n",
       "      <td>FLAVIO ANIBAL PEREIRA MORGADO</td>\n",
       "      <td>COORDENADOR II</td>\n",
       "      <td>C-2</td>\n",
       "    </tr>\n",
       "    <tr>\n",
       "      <th>128</th>\n",
       "      <td>SECULT</td>\n",
       "      <td>DECITEC</td>\n",
       "      <td>35.051-2</td>\n",
       "      <td>MICHEL AUGUSTO PEREIRA</td>\n",
       "      <td>COORDENADOR III</td>\n",
       "      <td>C-3</td>\n",
       "    </tr>\n",
       "    <tr>\n",
       "      <th>140</th>\n",
       "      <td>GPM</td>\n",
       "      <td>GPM</td>\n",
       "      <td>34.954-8</td>\n",
       "      <td>PAULO ALEXANDRE PEREIRA BARBOSA</td>\n",
       "      <td>PREFEITO MUNICIPAL</td>\n",
       "      <td>PREF</td>\n",
       "    </tr>\n",
       "    <tr>\n",
       "      <th>168</th>\n",
       "      <td>SEGOV</td>\n",
       "      <td>SEGOV</td>\n",
       "      <td>31.849-3</td>\n",
       "      <td>ROGERIO PEREIRA DOS SANTOS</td>\n",
       "      <td>SECRETARIO MUNICIPAL</td>\n",
       "      <td>CS</td>\n",
       "    </tr>\n",
       "  </tbody>\n",
       "</table>\n",
       "</div>"
      ],
      "text/plain": [
       "     Secretaria Departamento  Registro                             Nome  \\\n",
       "28        SECOM        SECOM  36.742-5            CAMILLA PEREIRA COSTA   \n",
       "73       SESERP       DESERP  34.475-4    FLAVIO ANIBAL PEREIRA MORGADO   \n",
       "128      SECULT      DECITEC  35.051-2           MICHEL AUGUSTO PEREIRA   \n",
       "140         GPM          GPM  34.954-8  PAULO ALEXANDRE PEREIRA BARBOSA   \n",
       "168       SEGOV        SEGOV  31.849-3       ROGERIO PEREIRA DOS SANTOS   \n",
       "\n",
       "            Cargo Efetivo Nível Salarial  \n",
       "28   ASSESSOR TECNICO III            C-3  \n",
       "73         COORDENADOR II            C-2  \n",
       "128       COORDENADOR III            C-3  \n",
       "140    PREFEITO MUNICIPAL           PREF  \n",
       "168  SECRETARIO MUNICIPAL             CS  "
      ]
     },
     "execution_count": 46,
     "metadata": {},
     "output_type": "execute_result"
    }
   ],
   "source": [
    "# Comissionados fora quadro with same last name (any) as mayor\n",
    "nao_quadro_same_surname = comissionados_nao_quadro[comissionados_nao_quadro.Nome.str.contains('|'.join(surnames_mayor))]\n",
    "print (nao_quadro_same_surname.shape)\n",
    "nao_quadro_same_surname.head()"
   ]
  },
  {
   "cell_type": "code",
   "execution_count": 47,
   "metadata": {},
   "outputs": [
    {
     "name": "stdout",
     "output_type": "stream",
     "text": [
      "KPI 2: 6 servants with same last name as mayor - ['PEREIRA', 'BARBOSA']\n"
     ]
    }
   ],
   "source": [
    "print ('KPI 2: {0} servants with same last name as mayor - {1}'.format(len(nao_quadro_same_surname),\n",
    "       str(surnames_mayor)))"
   ]
  },
  {
   "cell_type": "markdown",
   "metadata": {},
   "source": [
    "### KPI3 - same surname as secretary of his/her department"
   ]
  },
  {
   "cell_type": "code",
   "execution_count": null,
   "metadata": {
    "collapsed": true
   },
   "outputs": [],
   "source": [
    "secreatarios = servidores[servidores['Cargo'].str.contains('SECRETARIO MUNICIPAL')]"
   ]
  },
  {
   "cell_type": "code",
   "execution_count": null,
   "metadata": {},
   "outputs": [],
   "source": [
    "secreatarios.head(20)"
   ]
  },
  {
   "cell_type": "code",
   "execution_count": null,
   "metadata": {
    "collapsed": true
   },
   "outputs": [],
   "source": [
    "servs_secretario = servidores.merge(secreatarios[['Lotação','Nome do Servidor']], on='Lotação')"
   ]
  },
  {
   "cell_type": "code",
   "execution_count": null,
   "metadata": {
    "collapsed": true
   },
   "outputs": [],
   "source": [
    "# removed own entries of secretary (secretaries also exist in df servants)\n",
    "servs_secretario_clean = servs_secretario[~servs_secretario.Registro.isin(secreatarios.Registro.unique())]\n",
    "servs_secretario_clean = servs_secretario_clean.rename(columns={'Nome do Servidor_y':'secretario'})\n",
    "servs_secretario_clean = servs_secretario_clean.rename(columns={'Nome do Servidor_x':'servidor'})"
   ]
  },
  {
   "cell_type": "code",
   "execution_count": null,
   "metadata": {
    "collapsed": true
   },
   "outputs": [],
   "source": [
    "def extract_surnames(surname):\n",
    "    forbidden_last_names = ['DA','DE','DOS']\n",
    "    return [i for i in str(surname).split(' ')[1:] if i not in forbidden_last_names]\n",
    "    \n",
    "\n",
    "suspected_servents_secretary = servs_secretario_clean[servs_secretario_clean.\\\n",
    "                       apply(lambda x: any(name in x['servidor'] for name in extract_surnames(x['secretario'])),\\\n",
    "                             axis=1)]"
   ]
  },
  {
   "cell_type": "code",
   "execution_count": 21,
   "metadata": {},
   "outputs": [
    {
     "ename": "NameError",
     "evalue": "name 'suspected_servents_secretary' is not defined",
     "output_type": "error",
     "traceback": [
      "\u001b[0;31m---------------------------------------------------------------------------\u001b[0m",
      "\u001b[0;31mNameError\u001b[0m                                 Traceback (most recent call last)",
      "\u001b[0;32m<ipython-input-21-4ea3ee71007f>\u001b[0m in \u001b[0;36m<module>\u001b[0;34m\u001b[0m\n\u001b[0;32m----> 1\u001b[0;31m \u001b[0msuspected_servents_secretary\u001b[0m\u001b[0;34m[\u001b[0m\u001b[0;34m'Lotação'\u001b[0m\u001b[0;34m]\u001b[0m\u001b[0;34m.\u001b[0m\u001b[0mvalue_counts\u001b[0m\u001b[0;34m(\u001b[0m\u001b[0;34m)\u001b[0m\u001b[0;34m\u001b[0m\u001b[0;34m\u001b[0m\u001b[0m\n\u001b[0m",
      "\u001b[0;31mNameError\u001b[0m: name 'suspected_servents_secretary' is not defined"
     ]
    }
   ],
   "source": [
    "suspected_servents_secretary['Lotação'].value_counts()"
   ]
  },
  {
   "cell_type": "code",
   "execution_count": null,
   "metadata": {},
   "outputs": [],
   "source": [
    "print ('KPI3 : {} suspect servants with same name as secretary'.format(len(suspected_servents_secretary)))\n",
    "suspected_servents_secretary.head(20)"
   ]
  },
  {
   "cell_type": "markdown",
   "metadata": {},
   "source": [
    "## Finding bumping by comission"
   ]
  },
  {
   "cell_type": "code",
   "execution_count": 20,
   "metadata": {},
   "outputs": [
    {
     "data": {
      "text/html": [
       "<div>\n",
       "<style scoped>\n",
       "    .dataframe tbody tr th:only-of-type {\n",
       "        vertical-align: middle;\n",
       "    }\n",
       "\n",
       "    .dataframe tbody tr th {\n",
       "        vertical-align: top;\n",
       "    }\n",
       "\n",
       "    .dataframe thead th {\n",
       "        text-align: right;\n",
       "    }\n",
       "</style>\n",
       "<table border=\"1\" class=\"dataframe\">\n",
       "  <thead>\n",
       "    <tr style=\"text-align: right;\">\n",
       "      <th></th>\n",
       "      <th>Secretaria</th>\n",
       "      <th>Departamento</th>\n",
       "      <th>Registro</th>\n",
       "      <th>Nome</th>\n",
       "      <th>Cargo Efetivo</th>\n",
       "      <th>Nível Efetivo</th>\n",
       "      <th>Nível Salarial</th>\n",
       "      <th>Cargo Atual</th>\n",
       "    </tr>\n",
       "  </thead>\n",
       "  <tbody>\n",
       "  </tbody>\n",
       "</table>\n",
       "</div>"
      ],
      "text/plain": [
       "Empty DataFrame\n",
       "Columns: [Secretaria,  Departamento, Registro, Nome, Cargo Efetivo, Nível Efetivo, Nível Salarial, Cargo Atual]\n",
       "Index: []"
      ]
     },
     "execution_count": 20,
     "metadata": {},
     "output_type": "execute_result"
    }
   ],
   "source": [
    "comissionados_quadro[comissionados_quadro['Nome']=='PAULA DE MOURA VILLACA PAIXAO'].head()"
   ]
  },
  {
   "cell_type": "code",
   "execution_count": 50,
   "metadata": {},
   "outputs": [
    {
     "data": {
      "text/html": [
       "<div>\n",
       "<style scoped>\n",
       "    .dataframe tbody tr th:only-of-type {\n",
       "        vertical-align: middle;\n",
       "    }\n",
       "\n",
       "    .dataframe tbody tr th {\n",
       "        vertical-align: top;\n",
       "    }\n",
       "\n",
       "    .dataframe thead th {\n",
       "        text-align: right;\n",
       "    }\n",
       "</style>\n",
       "<table border=\"1\" class=\"dataframe\">\n",
       "  <thead>\n",
       "    <tr style=\"text-align: right;\">\n",
       "      <th></th>\n",
       "      <th>Secretaria</th>\n",
       "      <th>Departamento</th>\n",
       "      <th>Registro</th>\n",
       "      <th>Nome</th>\n",
       "      <th>Cargo Efetivo</th>\n",
       "      <th>Nível Efetivo</th>\n",
       "      <th>Nível Salarial</th>\n",
       "      <th>Cargo Atual</th>\n",
       "    </tr>\n",
       "  </thead>\n",
       "  <tbody>\n",
       "    <tr>\n",
       "      <th>1</th>\n",
       "      <td>SEFIN</td>\n",
       "      <td>DEATRI</td>\n",
       "      <td>08.061-4</td>\n",
       "      <td>DINA ELIZABETH EVANGELISTA SANTOS</td>\n",
       "      <td>AUDITOR FISCAL DE TRIBUTOS MUNICIPAIS</td>\n",
       "      <td>R</td>\n",
       "      <td>R</td>\n",
       "      <td>COORDENADOR II</td>\n",
       "    </tr>\n",
       "    <tr>\n",
       "      <th>2</th>\n",
       "      <td>SMS</td>\n",
       "      <td>SMS</td>\n",
       "      <td>12.040-2</td>\n",
       "      <td>VALTER MAKOTO NAKAGAWA</td>\n",
       "      <td>MEDICO</td>\n",
       "      <td>S</td>\n",
       "      <td>S</td>\n",
       "      <td>SECRETARIO ADJUNTO</td>\n",
       "    </tr>\n",
       "    <tr>\n",
       "      <th>3</th>\n",
       "      <td>OTC</td>\n",
       "      <td>OTC</td>\n",
       "      <td>14.425-3</td>\n",
       "      <td>RIVALDO SANTOS DE ALMEIDA JUNIOR</td>\n",
       "      <td>TEC.DE ABASTECIMENTO</td>\n",
       "      <td>L</td>\n",
       "      <td>CS</td>\n",
       "      <td>OUVIDOR PUBLICO MUNICIPAL</td>\n",
       "    </tr>\n",
       "    <tr>\n",
       "      <th>4</th>\n",
       "      <td>SESEG</td>\n",
       "      <td>CORREGE-SESEG</td>\n",
       "      <td>15.068-0</td>\n",
       "      <td>RAIMUNDO DOS SANTOS FERREIRA</td>\n",
       "      <td>GUARDA MUNICIPAL IV-INSPETOR CHEFE</td>\n",
       "      <td>L</td>\n",
       "      <td>C-1</td>\n",
       "      <td>CHEFE DE DEPARTAMENTO</td>\n",
       "    </tr>\n",
       "    <tr>\n",
       "      <th>5</th>\n",
       "      <td>SESEG</td>\n",
       "      <td>DGM</td>\n",
       "      <td>15.193-6</td>\n",
       "      <td>FRANCISCO APARECIDO JERONIMO</td>\n",
       "      <td>GUARDA MUNICIPAL III-INSPETOR</td>\n",
       "      <td>J</td>\n",
       "      <td>J</td>\n",
       "      <td>COORDENADOR III</td>\n",
       "    </tr>\n",
       "  </tbody>\n",
       "</table>\n",
       "</div>"
      ],
      "text/plain": [
       "  Secretaria    Departamento  Registro                               Nome  \\\n",
       "1      SEFIN          DEATRI  08.061-4  DINA ELIZABETH EVANGELISTA SANTOS   \n",
       "2        SMS             SMS  12.040-2             VALTER MAKOTO NAKAGAWA   \n",
       "3        OTC             OTC  14.425-3   RIVALDO SANTOS DE ALMEIDA JUNIOR   \n",
       "4      SESEG   CORREGE-SESEG  15.068-0       RAIMUNDO DOS SANTOS FERREIRA   \n",
       "5      SESEG             DGM  15.193-6       FRANCISCO APARECIDO JERONIMO   \n",
       "\n",
       "                           Cargo Efetivo Nível Efetivo Nível Salarial  \\\n",
       "1  AUDITOR FISCAL DE TRIBUTOS MUNICIPAIS             R              R   \n",
       "2                                 MEDICO             S              S   \n",
       "3                   TEC.DE ABASTECIMENTO             L             CS   \n",
       "4     GUARDA MUNICIPAL IV-INSPETOR CHEFE             L            C-1   \n",
       "5          GUARDA MUNICIPAL III-INSPETOR             J              J   \n",
       "\n",
       "                 Cargo Atual  \n",
       "1             COORDENADOR II  \n",
       "2         SECRETARIO ADJUNTO  \n",
       "3  OUVIDOR PUBLICO MUNICIPAL  \n",
       "4      CHEFE DE DEPARTAMENTO  \n",
       "5            COORDENADOR III  "
      ]
     },
     "execution_count": 50,
     "metadata": {},
     "output_type": "execute_result"
    }
   ],
   "source": [
    "comissionados_quadro.head()"
   ]
  },
  {
   "cell_type": "markdown",
   "metadata": {},
   "source": [
    "## Servidores with multiple positions"
   ]
  },
  {
   "cell_type": "code",
   "execution_count": 52,
   "metadata": {},
   "outputs": [
    {
     "data": {
      "text/plain": [
       "JOSE CARLOS DOS SANTOS                   5\n",
       "LUCIANE APARECIDA CAMARGO                3\n",
       "MARCIA FERREIRA DOS SANTOS               3\n",
       "CARLOS ALBERTO DOS SANTOS                3\n",
       "MARILENE DOS SANTOS                      3\n",
       "                                        ..\n",
       "ROSANGELA DOS SANTOS LOURENCO            1\n",
       "ADRIANA MIDORI FERREIRA DAS NEVES OTA    1\n",
       "ANA PAULA ATANES DE SOUZA BARRETO        1\n",
       "ARETA DE OLIVEIRA AMOROZO                1\n",
       "JOSE LUIS SANTOS MATOS                   1\n",
       "Name: Nome do Servidor, Length: 11345, dtype: int64"
      ]
     },
     "execution_count": 52,
     "metadata": {},
     "output_type": "execute_result"
    }
   ],
   "source": [
    "servidores['Nome do Servidor'].value_counts()"
   ]
  },
  {
   "cell_type": "code",
   "execution_count": 53,
   "metadata": {},
   "outputs": [
    {
     "data": {
      "text/html": [
       "<div>\n",
       "<style scoped>\n",
       "    .dataframe tbody tr th:only-of-type {\n",
       "        vertical-align: middle;\n",
       "    }\n",
       "\n",
       "    .dataframe tbody tr th {\n",
       "        vertical-align: top;\n",
       "    }\n",
       "\n",
       "    .dataframe thead th {\n",
       "        text-align: right;\n",
       "    }\n",
       "</style>\n",
       "<table border=\"1\" class=\"dataframe\">\n",
       "  <thead>\n",
       "    <tr style=\"text-align: right;\">\n",
       "      <th></th>\n",
       "      <th>Nome do Servidor</th>\n",
       "      <th>Registro</th>\n",
       "      <th>Tipo de Servidor</th>\n",
       "      <th>Cargo Efetivo</th>\n",
       "      <th>Cargo</th>\n",
       "      <th>Carga Horária</th>\n",
       "      <th>Lotação</th>\n",
       "      <th>Admissão</th>\n",
       "      <th>Qtde.</th>\n",
       "      <th>nao_quadro</th>\n",
       "    </tr>\n",
       "  </thead>\n",
       "  <tbody>\n",
       "    <tr>\n",
       "      <th>5253</th>\n",
       "      <td>JOSE CARLOS DOS SANTOS</td>\n",
       "      <td>15.523-4</td>\n",
       "      <td>Estatutário</td>\n",
       "      <td>GUARDA MUNICIPAL IV-INSPETOR CHEFE</td>\n",
       "      <td>GUARDA MUNICIPAL IV-INSPETOR CHEFE</td>\n",
       "      <td>200.0</td>\n",
       "      <td>SESEG - CORSEG-M</td>\n",
       "      <td>07/04/1987</td>\n",
       "      <td>1</td>\n",
       "      <td>0</td>\n",
       "    </tr>\n",
       "    <tr>\n",
       "      <th>5254</th>\n",
       "      <td>JOSE CARLOS DOS SANTOS</td>\n",
       "      <td>17.391-4</td>\n",
       "      <td>Estatutário</td>\n",
       "      <td>AUXILIAR DE SERV. GERAIS</td>\n",
       "      <td>AUXILIAR DE SERV. GERAIS</td>\n",
       "      <td>200.0</td>\n",
       "      <td>SESERP - SEALM-SERP</td>\n",
       "      <td>20/04/1982</td>\n",
       "      <td>1</td>\n",
       "      <td>0</td>\n",
       "    </tr>\n",
       "    <tr>\n",
       "      <th>5255</th>\n",
       "      <td>JOSE CARLOS DOS SANTOS</td>\n",
       "      <td>20.236-6</td>\n",
       "      <td>Estatutário</td>\n",
       "      <td>AUXILIAR DE SERV. GERAIS</td>\n",
       "      <td>AUXILIAR DE SERV. GERAIS</td>\n",
       "      <td>200.0</td>\n",
       "      <td>SESERP - CORTEC-ZOI</td>\n",
       "      <td>17/03/1994</td>\n",
       "      <td>1</td>\n",
       "      <td>0</td>\n",
       "    </tr>\n",
       "    <tr>\n",
       "      <th>5256</th>\n",
       "      <td>JOSE CARLOS DOS SANTOS</td>\n",
       "      <td>20.815-7</td>\n",
       "      <td>Estatutário</td>\n",
       "      <td>PROF. ED. BASICA II</td>\n",
       "      <td>PROF. ED. BASICA II</td>\n",
       "      <td>200.0</td>\n",
       "      <td>SEDUC - UME-MF</td>\n",
       "      <td>06/02/1995</td>\n",
       "      <td>1</td>\n",
       "      <td>0</td>\n",
       "    </tr>\n",
       "    <tr>\n",
       "      <th>5257</th>\n",
       "      <td>JOSE CARLOS DOS SANTOS</td>\n",
       "      <td>28.037-0</td>\n",
       "      <td>Estatutário</td>\n",
       "      <td>AGENTE DE PORTARIA</td>\n",
       "      <td>AGENTE DE PORTARIA</td>\n",
       "      <td>200.0</td>\n",
       "      <td>SEDUC - SEACON-SEDUC</td>\n",
       "      <td>19/08/2008</td>\n",
       "      <td>1</td>\n",
       "      <td>0</td>\n",
       "    </tr>\n",
       "  </tbody>\n",
       "</table>\n",
       "</div>"
      ],
      "text/plain": [
       "            Nome do Servidor  Registro Tipo de Servidor  \\\n",
       "5253  JOSE CARLOS DOS SANTOS  15.523-4      Estatutário   \n",
       "5254  JOSE CARLOS DOS SANTOS  17.391-4      Estatutário   \n",
       "5255  JOSE CARLOS DOS SANTOS  20.236-6      Estatutário   \n",
       "5256  JOSE CARLOS DOS SANTOS  20.815-7      Estatutário   \n",
       "5257  JOSE CARLOS DOS SANTOS  28.037-0      Estatutário   \n",
       "\n",
       "                           Cargo Efetivo                               Cargo  \\\n",
       "5253  GUARDA MUNICIPAL IV-INSPETOR CHEFE  GUARDA MUNICIPAL IV-INSPETOR CHEFE   \n",
       "5254            AUXILIAR DE SERV. GERAIS            AUXILIAR DE SERV. GERAIS   \n",
       "5255            AUXILIAR DE SERV. GERAIS            AUXILIAR DE SERV. GERAIS   \n",
       "5256                 PROF. ED. BASICA II                 PROF. ED. BASICA II   \n",
       "5257                  AGENTE DE PORTARIA                  AGENTE DE PORTARIA   \n",
       "\n",
       "      Carga Horária               Lotação    Admissão  Qtde.  nao_quadro  \n",
       "5253          200.0      SESEG - CORSEG-M  07/04/1987      1           0  \n",
       "5254          200.0   SESERP - SEALM-SERP  20/04/1982      1           0  \n",
       "5255          200.0   SESERP - CORTEC-ZOI  17/03/1994      1           0  \n",
       "5256          200.0        SEDUC - UME-MF  06/02/1995      1           0  \n",
       "5257          200.0  SEDUC - SEACON-SEDUC  19/08/2008      1           0  "
      ]
     },
     "execution_count": 53,
     "metadata": {},
     "output_type": "execute_result"
    }
   ],
   "source": [
    "servidores[servidores['Nome do Servidor']=='JOSE CARLOS DOS SANTOS']"
   ]
  },
  {
   "cell_type": "code",
   "execution_count": 57,
   "metadata": {},
   "outputs": [
    {
     "data": {
      "text/html": [
       "<div>\n",
       "<style scoped>\n",
       "    .dataframe tbody tr th:only-of-type {\n",
       "        vertical-align: middle;\n",
       "    }\n",
       "\n",
       "    .dataframe tbody tr th {\n",
       "        vertical-align: top;\n",
       "    }\n",
       "\n",
       "    .dataframe thead th {\n",
       "        text-align: right;\n",
       "    }\n",
       "</style>\n",
       "<table border=\"1\" class=\"dataframe\">\n",
       "  <thead>\n",
       "    <tr style=\"text-align: right;\">\n",
       "      <th></th>\n",
       "      <th>Nome do Servidor</th>\n",
       "      <th>Registro</th>\n",
       "      <th>Tipo de Servidor</th>\n",
       "      <th>Cargo Efetivo</th>\n",
       "      <th>Cargo</th>\n",
       "      <th>Carga Horária</th>\n",
       "      <th>Lotação</th>\n",
       "      <th>Admissão</th>\n",
       "      <th>Qtde.</th>\n",
       "      <th>nao_quadro</th>\n",
       "    </tr>\n",
       "  </thead>\n",
       "  <tbody>\n",
       "    <tr>\n",
       "      <th>1</th>\n",
       "      <td>ABDON FERREIRA DA SILVA NETO</td>\n",
       "      <td>32.642-1</td>\n",
       "      <td>Estatutário</td>\n",
       "      <td>AUXILIAR DE SERV. GERAIS</td>\n",
       "      <td>AUXILIAR DE SERV. GERAIS</td>\n",
       "      <td>200.0</td>\n",
       "      <td>SEDUC - UME-NGF</td>\n",
       "      <td>20/05/2013</td>\n",
       "      <td>1</td>\n",
       "      <td>0</td>\n",
       "    </tr>\n",
       "    <tr>\n",
       "      <th>28</th>\n",
       "      <td>ADELACIO MARQUES DE SOUZA FILHO</td>\n",
       "      <td>14.174-7</td>\n",
       "      <td>Estatutário</td>\n",
       "      <td>AUXILIAR DE SERV. GERAIS</td>\n",
       "      <td>AUXILIAR DE SERV. GERAIS</td>\n",
       "      <td>200.0</td>\n",
       "      <td>SESERP - CORTEC-AC</td>\n",
       "      <td>24/04/1991</td>\n",
       "      <td>1</td>\n",
       "      <td>0</td>\n",
       "    </tr>\n",
       "    <tr>\n",
       "      <th>39</th>\n",
       "      <td>ADELINA VIEIRA DOS ANJOS</td>\n",
       "      <td>33.837-6</td>\n",
       "      <td>Estatutário</td>\n",
       "      <td>AUXILIAR DE SERV. GERAIS</td>\n",
       "      <td>AUXILIAR DE SERV. GERAIS</td>\n",
       "      <td>200.0</td>\n",
       "      <td>SEGOV - DEARTI</td>\n",
       "      <td>19/11/2014</td>\n",
       "      <td>1</td>\n",
       "      <td>0</td>\n",
       "    </tr>\n",
       "    <tr>\n",
       "      <th>45</th>\n",
       "      <td>ADELSON CLEITON FERREIRA</td>\n",
       "      <td>21.294-4</td>\n",
       "      <td>Estatutário</td>\n",
       "      <td>AUXILIAR DE SERV. GERAIS</td>\n",
       "      <td>AUXILIAR DE SERV. GERAIS</td>\n",
       "      <td>200.0</td>\n",
       "      <td>SMS - SEAGLO-ZNO</td>\n",
       "      <td>22/08/1995</td>\n",
       "      <td>1</td>\n",
       "      <td>0</td>\n",
       "    </tr>\n",
       "    <tr>\n",
       "      <th>53</th>\n",
       "      <td>ADEMILSON RODRIGUES MALAMINA</td>\n",
       "      <td>31.391-6</td>\n",
       "      <td>Estatutário</td>\n",
       "      <td>AUXILIAR DE SERV. GERAIS</td>\n",
       "      <td>AUXILIAR DE SERV. GERAIS</td>\n",
       "      <td>200.0</td>\n",
       "      <td>SESERP - SELETRIC</td>\n",
       "      <td>26/09/2012</td>\n",
       "      <td>1</td>\n",
       "      <td>0</td>\n",
       "    </tr>\n",
       "    <tr>\n",
       "      <th>...</th>\n",
       "      <td>...</td>\n",
       "      <td>...</td>\n",
       "      <td>...</td>\n",
       "      <td>...</td>\n",
       "      <td>...</td>\n",
       "      <td>...</td>\n",
       "      <td>...</td>\n",
       "      <td>...</td>\n",
       "      <td>...</td>\n",
       "      <td>...</td>\n",
       "    </tr>\n",
       "    <tr>\n",
       "      <th>11641</th>\n",
       "      <td>WILLIAN SANTOS DE LIMA</td>\n",
       "      <td>31.021-9</td>\n",
       "      <td>Estatutário</td>\n",
       "      <td>AUXILIAR DE SERV. GERAIS</td>\n",
       "      <td>AUXILIAR DE SERV. GERAIS</td>\n",
       "      <td>200.0</td>\n",
       "      <td>SESERP - CORTEC-AC</td>\n",
       "      <td>11/07/2012</td>\n",
       "      <td>1</td>\n",
       "      <td>0</td>\n",
       "    </tr>\n",
       "    <tr>\n",
       "      <th>11644</th>\n",
       "      <td>WILLIANS FREDERIC GARCIA FERREIRA</td>\n",
       "      <td>13.999-8</td>\n",
       "      <td>Estatutário</td>\n",
       "      <td>AUXILIAR DE SERV. GERAIS</td>\n",
       "      <td>AUXILIAR DE SERV. GERAIS</td>\n",
       "      <td>200.0</td>\n",
       "      <td>SESERP - CORTEC-ZOI</td>\n",
       "      <td>11/03/1991</td>\n",
       "      <td>1</td>\n",
       "      <td>0</td>\n",
       "    </tr>\n",
       "    <tr>\n",
       "      <th>11657</th>\n",
       "      <td>WILSON DONIZETI DUARTE</td>\n",
       "      <td>31.338-7</td>\n",
       "      <td>Estatutário</td>\n",
       "      <td>AUXILIAR DE SERV. GERAIS</td>\n",
       "      <td>AUXILIAR DE SERV. GERAIS</td>\n",
       "      <td>200.0</td>\n",
       "      <td>SEGES - SEPATRI-SEGES</td>\n",
       "      <td>21/09/2012</td>\n",
       "      <td>1</td>\n",
       "      <td>0</td>\n",
       "    </tr>\n",
       "    <tr>\n",
       "      <th>11685</th>\n",
       "      <td>YGOR RAMON ANTAO SILVA</td>\n",
       "      <td>31.820-4</td>\n",
       "      <td>Estatutário</td>\n",
       "      <td>AUXILIAR DE SERV. GERAIS</td>\n",
       "      <td>AUXILIAR DE SERV. GERAIS</td>\n",
       "      <td>200.0</td>\n",
       "      <td>SESERP - CORTEC-ZOI</td>\n",
       "      <td>17/12/2012</td>\n",
       "      <td>1</td>\n",
       "      <td>0</td>\n",
       "    </tr>\n",
       "    <tr>\n",
       "      <th>11704</th>\n",
       "      <td>ZULEIDE MACEDO</td>\n",
       "      <td>21.985-7</td>\n",
       "      <td>Estatutário</td>\n",
       "      <td>AUXILIAR DE SERV. GERAIS</td>\n",
       "      <td>AUXILIAR DE SERV. GERAIS</td>\n",
       "      <td>200.0</td>\n",
       "      <td>SEDUC - UME-CRM</td>\n",
       "      <td>19/08/1996</td>\n",
       "      <td>1</td>\n",
       "      <td>0</td>\n",
       "    </tr>\n",
       "  </tbody>\n",
       "</table>\n",
       "<p>617 rows × 10 columns</p>\n",
       "</div>"
      ],
      "text/plain": [
       "                        Nome do Servidor  Registro Tipo de Servidor  \\\n",
       "1           ABDON FERREIRA DA SILVA NETO  32.642-1      Estatutário   \n",
       "28       ADELACIO MARQUES DE SOUZA FILHO  14.174-7      Estatutário   \n",
       "39              ADELINA VIEIRA DOS ANJOS  33.837-6      Estatutário   \n",
       "45              ADELSON CLEITON FERREIRA  21.294-4      Estatutário   \n",
       "53          ADEMILSON RODRIGUES MALAMINA  31.391-6      Estatutário   \n",
       "...                                  ...       ...              ...   \n",
       "11641             WILLIAN SANTOS DE LIMA  31.021-9      Estatutário   \n",
       "11644  WILLIANS FREDERIC GARCIA FERREIRA  13.999-8      Estatutário   \n",
       "11657             WILSON DONIZETI DUARTE  31.338-7      Estatutário   \n",
       "11685             YGOR RAMON ANTAO SILVA  31.820-4      Estatutário   \n",
       "11704                     ZULEIDE MACEDO  21.985-7      Estatutário   \n",
       "\n",
       "                  Cargo Efetivo                     Cargo  Carga Horária  \\\n",
       "1      AUXILIAR DE SERV. GERAIS  AUXILIAR DE SERV. GERAIS          200.0   \n",
       "28     AUXILIAR DE SERV. GERAIS  AUXILIAR DE SERV. GERAIS          200.0   \n",
       "39     AUXILIAR DE SERV. GERAIS  AUXILIAR DE SERV. GERAIS          200.0   \n",
       "45     AUXILIAR DE SERV. GERAIS  AUXILIAR DE SERV. GERAIS          200.0   \n",
       "53     AUXILIAR DE SERV. GERAIS  AUXILIAR DE SERV. GERAIS          200.0   \n",
       "...                         ...                       ...            ...   \n",
       "11641  AUXILIAR DE SERV. GERAIS  AUXILIAR DE SERV. GERAIS          200.0   \n",
       "11644  AUXILIAR DE SERV. GERAIS  AUXILIAR DE SERV. GERAIS          200.0   \n",
       "11657  AUXILIAR DE SERV. GERAIS  AUXILIAR DE SERV. GERAIS          200.0   \n",
       "11685  AUXILIAR DE SERV. GERAIS  AUXILIAR DE SERV. GERAIS          200.0   \n",
       "11704  AUXILIAR DE SERV. GERAIS  AUXILIAR DE SERV. GERAIS          200.0   \n",
       "\n",
       "                     Lotação    Admissão  Qtde.  nao_quadro  \n",
       "1            SEDUC - UME-NGF  20/05/2013      1           0  \n",
       "28        SESERP - CORTEC-AC  24/04/1991      1           0  \n",
       "39            SEGOV - DEARTI  19/11/2014      1           0  \n",
       "45          SMS - SEAGLO-ZNO  22/08/1995      1           0  \n",
       "53         SESERP - SELETRIC  26/09/2012      1           0  \n",
       "...                      ...         ...    ...         ...  \n",
       "11641     SESERP - CORTEC-AC  11/07/2012      1           0  \n",
       "11644    SESERP - CORTEC-ZOI  11/03/1991      1           0  \n",
       "11657  SEGES - SEPATRI-SEGES  21/09/2012      1           0  \n",
       "11685    SESERP - CORTEC-ZOI  17/12/2012      1           0  \n",
       "11704        SEDUC - UME-CRM  19/08/1996      1           0  \n",
       "\n",
       "[617 rows x 10 columns]"
      ]
     },
     "execution_count": 57,
     "metadata": {},
     "output_type": "execute_result"
    }
   ],
   "source": [
    "servidores[servidores['Cargo']=='AUXILIAR DE SERV. GERAIS']"
   ]
  },
  {
   "cell_type": "code",
   "execution_count": null,
   "metadata": {},
   "outputs": [],
   "source": []
  }
 ],
 "metadata": {
  "kernelspec": {
   "display_name": "Python 3",
   "language": "python",
   "name": "python3"
  },
  "language_info": {
   "codemirror_mode": {
    "name": "ipython",
    "version": 3
   },
   "file_extension": ".py",
   "mimetype": "text/x-python",
   "name": "python",
   "nbconvert_exporter": "python",
   "pygments_lexer": "ipython3",
   "version": "3.7.3"
  }
 },
 "nbformat": 4,
 "nbformat_minor": 2
}
